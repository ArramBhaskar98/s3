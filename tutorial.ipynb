{
 "cells": [
  {
   "cell_type": "markdown",
   "metadata": {},
   "source": [
    "# Walkthrough for S3-helper function\n",
    "<p>\n",
    "    Forget where you put some sensitive information on your cloud database?\n",
    "    <br>Tired of downloading files from s3 only to preview them in excel, or textpad?\n",
    "    <br>Want to touch and reshape data but feel it's caged off from you?\n",
    "    <br>Look no further, your s3 problems are solved!\n",
    "</p>"
   ]
  },
  {
   "cell_type": "markdown",
   "metadata": {},
   "source": [
    "## Table of Contents <a id='top'></a>\n",
    "<header>\n",
    "    This Jupyter notebook gives a walkthrough of several handy functions from the <a href='https://github.com/yinleon/s3'>s3 module</a>.\n",
    "<br>With best intentions, these functions mirror the use of standard libraries, while empolying the backend of popular open source projects.\n",
    "<br><br>The notebook highlights 7 functions to:\n",
    "</header>\n",
    "\n",
    "1. List files (with wildcard) in a s3 bucket/key using <a href='#look'>ls()</a>\n",
    "2. Read files into a string or bytes using <a href='#read'>read() and open()</a> \n",
    "3. Read csv and json files on s3 into Pandas dataframes using <a href='#read_csv'>read_csv() and read_json()</a>\n",
    "4. Write csv and json files from Pandas dataframes to s3 using <a href='#write_csv'>to_csv() and to_json()</a>\n",
    "5. Write local files to s3 using <a href='#write_csv'>write()</a>\n",
    "6. Saving and Loading <a href=\"#clf\">Scikit-Learn classifiers </a>\n",
    "7. Moving files to new buckets and keys using <a href=\"#mv\">mv()</a>\n",
    "\n",
    "The only requirements are setting AWS environment variables or setting up the AWS CLI, and installing the `requirements.txt` modules.\n",
    "\n",
    "For this tutorial, we'll use the red wine quality dataset from <a href='https://archive.ics.uci.edu/ml/datasets/Wine+Quality'>UCI Center for Machine Learning and Intelligent Systems</a>."
   ]
  },
  {
   "cell_type": "code",
   "execution_count": 1,
   "metadata": {
    "collapsed": false
   },
   "outputs": [],
   "source": [
    "import os\n",
    "import s3"
   ]
  },
  {
   "cell_type": "markdown",
   "metadata": {},
   "source": [
    "## Listing files in a S3 bucket and key using ls( )<a id='look'>\n",
    "<p>\n",
    "    s3.ls will list all the files and directories in a bucket/key akin to os.listdir()\n",
    "    <br><a href=\"https://github.com/yinleon/s3/blob/master/funcs.py\">see the code</a>\n",
    "</p>"
   ]
  },
  {
   "cell_type": "code",
   "execution_count": 2,
   "metadata": {
    "collapsed": true
   },
   "outputs": [],
   "source": [
    "s3_path = 's3://prod-datalytics/playground/'"
   ]
  },
  {
   "cell_type": "markdown",
   "metadata": {},
   "source": [
    "It takes in a bucket or bucket, key pair."
   ]
  },
  {
   "cell_type": "code",
   "execution_count": 3,
   "metadata": {
    "collapsed": false
   },
   "outputs": [
    {
     "data": {
      "text/plain": [
       "['s3://prod-datalytics/playground/json_bourne.json',\n",
       " 's3://prod-datalytics/playground/wine_is_fine.csv',\n",
       " 's3://prod-datalytics/playground/wine_is_not_fine.tsv']"
      ]
     },
     "execution_count": 3,
     "metadata": {},
     "output_type": "execute_result"
    }
   ],
   "source": [
    "s3.ls(s3_path)"
   ]
  },
  {
   "cell_type": "markdown",
   "metadata": {},
   "source": [
    "s3.ls also supports regex-like wildcard patterns exactly like glob.glob()"
   ]
  },
  {
   "cell_type": "code",
   "execution_count": 4,
   "metadata": {
    "collapsed": false,
    "scrolled": true
   },
   "outputs": [
    {
     "data": {
      "text/plain": [
       "['s3://prod-datalytics/playground/wine_is_fine.csv']"
      ]
     },
     "execution_count": 4,
     "metadata": {},
     "output_type": "execute_result"
    }
   ],
   "source": [
    "s3.ls(s3_path + '*.csv')"
   ]
  },
  {
   "cell_type": "markdown",
   "metadata": {},
   "source": [
    "With a programmatic method of getting s3 file paths, we can start doing some cools stuff.\n",
    "<br><a href='#top'>top</a>"
   ]
  },
  {
   "cell_type": "markdown",
   "metadata": {},
   "source": [
    "## Read files in s3 with open() <a id='read'>\n",
    "\n",
    "<a href=\"https://github.com/yinleon/s3/blob/master/funcs.py\">see the code</a>\n"
   ]
  },
  {
   "cell_type": "code",
   "execution_count": 5,
   "metadata": {
    "collapsed": false
   },
   "outputs": [
    {
     "data": {
      "text/plain": [
       "'s3://prod-datalytics/playground/wine_is_fine.csv'"
      ]
     },
     "execution_count": 5,
     "metadata": {},
     "output_type": "execute_result"
    }
   ],
   "source": [
    "f = s3.ls(s3_path + '*.csv')[0]\n",
    "f"
   ]
  },
  {
   "cell_type": "markdown",
   "metadata": {},
   "source": [
    "we can open the file as a streaming body of bytes."
   ]
  },
  {
   "cell_type": "code",
   "execution_count": 6,
   "metadata": {
    "collapsed": false
   },
   "outputs": [
    {
     "data": {
      "text/plain": [
       "<botocore.response.StreamingBody at 0x10a52ada0>"
      ]
     },
     "execution_count": 6,
     "metadata": {},
     "output_type": "execute_result"
    }
   ],
   "source": [
    "s3.open(f)"
   ]
  },
  {
   "cell_type": "markdown",
   "metadata": {},
   "source": [
    "this is helpful sometimes, but typically we want to read a file like Python's native \n",
    "<br>&emsp;Open(filename, 'r') as f: \n",
    "<br>&emsp;&emsp; f.read()\n",
    "<br>"
   ]
  },
  {
   "cell_type": "code",
   "execution_count": 7,
   "metadata": {
    "collapsed": false
   },
   "outputs": [
    {
     "data": {
      "text/plain": [
       "'fixed acidity,volatile acidity,citric acid,residual sugar,chlorides,free sulfur dioxide,total sulfur dioxide,density,pH,sulphates,alcohol,quality\\n7.4,0.7,0.0,1.9,0.076,11.0,34.0,0.9978,3.51,0.56,9.4,5'"
      ]
     },
     "execution_count": 7,
     "metadata": {},
     "output_type": "execute_result"
    }
   ],
   "source": [
    "s3.read(f, encoding='utf-8')[:200] # displays the first 200 characters."
   ]
  },
  {
   "cell_type": "markdown",
   "metadata": {},
   "source": [
    "For more structured data, we can leverage Pandas' parsing engines...\n",
    "<br><a href='#top'>top</a>"
   ]
  },
  {
   "cell_type": "markdown",
   "metadata": {},
   "source": [
    "## Read S3 files to memory with read_csv( ) and read_json( ) <a id='read_csv'>"
   ]
  },
  {
   "cell_type": "markdown",
   "metadata": {},
   "source": [
    "<p>\n",
    "    s3.read_csv and read_json are identical to their Pandas' \n",
    "    <a href=\"http://pandas.pydata.org/pandas-docs/stable/generated/pandas.read_csv.html\">ancestor and backbone.</a>\n",
    "    <br>\n",
    "    Using this handy function, you have data displayed in a nice tabular format:<br>\n",
    "    <a href=\"https://github.com/yinleon/s3/blob/master/funcs.py\">see the code</a>\n",
    "</p>"
   ]
  },
  {
   "cell_type": "code",
   "execution_count": 8,
   "metadata": {
    "collapsed": false
   },
   "outputs": [
    {
     "data": {
      "text/html": [
       "<div>\n",
       "<table border=\"1\" class=\"dataframe\">\n",
       "  <thead>\n",
       "    <tr style=\"text-align: right;\">\n",
       "      <th></th>\n",
       "      <th>fixed acidity</th>\n",
       "      <th>volatile acidity</th>\n",
       "      <th>citric acid</th>\n",
       "      <th>residual sugar</th>\n",
       "      <th>chlorides</th>\n",
       "      <th>free sulfur dioxide</th>\n",
       "      <th>total sulfur dioxide</th>\n",
       "      <th>density</th>\n",
       "      <th>pH</th>\n",
       "      <th>sulphates</th>\n",
       "      <th>alcohol</th>\n",
       "      <th>quality</th>\n",
       "    </tr>\n",
       "  </thead>\n",
       "  <tbody>\n",
       "    <tr>\n",
       "      <th>0</th>\n",
       "      <td>7.4</td>\n",
       "      <td>0.70</td>\n",
       "      <td>0.00</td>\n",
       "      <td>1.9</td>\n",
       "      <td>0.076</td>\n",
       "      <td>11.0</td>\n",
       "      <td>34.0</td>\n",
       "      <td>0.9978</td>\n",
       "      <td>3.51</td>\n",
       "      <td>0.56</td>\n",
       "      <td>9.4</td>\n",
       "      <td>5</td>\n",
       "    </tr>\n",
       "    <tr>\n",
       "      <th>1</th>\n",
       "      <td>7.8</td>\n",
       "      <td>0.88</td>\n",
       "      <td>0.00</td>\n",
       "      <td>2.6</td>\n",
       "      <td>0.098</td>\n",
       "      <td>25.0</td>\n",
       "      <td>67.0</td>\n",
       "      <td>0.9968</td>\n",
       "      <td>3.20</td>\n",
       "      <td>0.68</td>\n",
       "      <td>9.8</td>\n",
       "      <td>5</td>\n",
       "    </tr>\n",
       "    <tr>\n",
       "      <th>2</th>\n",
       "      <td>7.8</td>\n",
       "      <td>0.76</td>\n",
       "      <td>0.04</td>\n",
       "      <td>2.3</td>\n",
       "      <td>0.092</td>\n",
       "      <td>15.0</td>\n",
       "      <td>54.0</td>\n",
       "      <td>0.9970</td>\n",
       "      <td>3.26</td>\n",
       "      <td>0.65</td>\n",
       "      <td>9.8</td>\n",
       "      <td>5</td>\n",
       "    </tr>\n",
       "  </tbody>\n",
       "</table>\n",
       "</div>"
      ],
      "text/plain": [
       "   fixed acidity  volatile acidity  citric acid  residual sugar  chlorides  \\\n",
       "0            7.4              0.70         0.00             1.9      0.076   \n",
       "1            7.8              0.88         0.00             2.6      0.098   \n",
       "2            7.8              0.76         0.04             2.3      0.092   \n",
       "\n",
       "   free sulfur dioxide  total sulfur dioxide  density    pH  sulphates  \\\n",
       "0                 11.0                  34.0   0.9978  3.51       0.56   \n",
       "1                 25.0                  67.0   0.9968  3.20       0.68   \n",
       "2                 15.0                  54.0   0.9970  3.26       0.65   \n",
       "\n",
       "   alcohol  quality  \n",
       "0      9.4        5  \n",
       "1      9.8        5  \n",
       "2      9.8        5  "
      ]
     },
     "execution_count": 8,
     "metadata": {},
     "output_type": "execute_result"
    }
   ],
   "source": [
    "df = s3.read_csv(f, sep=',')\n",
    "df.head(3)"
   ]
  },
  {
   "cell_type": "markdown",
   "metadata": {},
   "source": [
    "a csv is the most simple use case, we can handle alternative delimiters and json files too."
   ]
  },
  {
   "cell_type": "code",
   "execution_count": 9,
   "metadata": {
    "collapsed": false
   },
   "outputs": [
    {
     "data": {
      "text/plain": [
       "['s3://prod-datalytics/playground/json_bourne.json',\n",
       " 's3://prod-datalytics/playground/wine_is_fine.csv',\n",
       " 's3://prod-datalytics/playground/wine_is_not_fine.tsv']"
      ]
     },
     "execution_count": 9,
     "metadata": {},
     "output_type": "execute_result"
    }
   ],
   "source": [
    "files = s3.ls(s3_path)\n",
    "files"
   ]
  },
  {
   "cell_type": "markdown",
   "metadata": {},
   "source": [
    "here are tab-separated values (tsv)."
   ]
  },
  {
   "cell_type": "code",
   "execution_count": 10,
   "metadata": {
    "collapsed": false
   },
   "outputs": [
    {
     "name": "stdout",
     "output_type": "stream",
     "text": [
      "We can read the s3://prod-datalytics/playground/wine_is_not_fine.tsv tsv easily.\n"
     ]
    },
    {
     "data": {
      "text/html": [
       "<div>\n",
       "<table border=\"1\" class=\"dataframe\">\n",
       "  <thead>\n",
       "    <tr style=\"text-align: right;\">\n",
       "      <th></th>\n",
       "      <th>fixed acidity</th>\n",
       "      <th>volatile acidity</th>\n",
       "      <th>citric acid</th>\n",
       "      <th>residual sugar</th>\n",
       "      <th>chlorides</th>\n",
       "      <th>free sulfur dioxide</th>\n",
       "      <th>total sulfur dioxide</th>\n",
       "      <th>density</th>\n",
       "      <th>pH</th>\n",
       "      <th>sulphates</th>\n",
       "      <th>alcohol</th>\n",
       "      <th>quality</th>\n",
       "    </tr>\n",
       "  </thead>\n",
       "  <tbody>\n",
       "    <tr>\n",
       "      <th>1596</th>\n",
       "      <td>6.3</td>\n",
       "      <td>0.510</td>\n",
       "      <td>0.13</td>\n",
       "      <td>2.3</td>\n",
       "      <td>0.076</td>\n",
       "      <td>29.0</td>\n",
       "      <td>40.0</td>\n",
       "      <td>0.99574</td>\n",
       "      <td>3.42</td>\n",
       "      <td>0.75</td>\n",
       "      <td>11.0</td>\n",
       "      <td>6</td>\n",
       "    </tr>\n",
       "    <tr>\n",
       "      <th>1597</th>\n",
       "      <td>5.9</td>\n",
       "      <td>0.645</td>\n",
       "      <td>0.12</td>\n",
       "      <td>2.0</td>\n",
       "      <td>0.075</td>\n",
       "      <td>32.0</td>\n",
       "      <td>44.0</td>\n",
       "      <td>0.99547</td>\n",
       "      <td>3.57</td>\n",
       "      <td>0.71</td>\n",
       "      <td>10.2</td>\n",
       "      <td>5</td>\n",
       "    </tr>\n",
       "    <tr>\n",
       "      <th>1598</th>\n",
       "      <td>6.0</td>\n",
       "      <td>0.310</td>\n",
       "      <td>0.47</td>\n",
       "      <td>3.6</td>\n",
       "      <td>0.067</td>\n",
       "      <td>18.0</td>\n",
       "      <td>42.0</td>\n",
       "      <td>0.99549</td>\n",
       "      <td>3.39</td>\n",
       "      <td>0.66</td>\n",
       "      <td>11.0</td>\n",
       "      <td>6</td>\n",
       "    </tr>\n",
       "  </tbody>\n",
       "</table>\n",
       "</div>"
      ],
      "text/plain": [
       "      fixed acidity  volatile acidity  citric acid  residual sugar  chlorides  \\\n",
       "1596            6.3             0.510         0.13             2.3      0.076   \n",
       "1597            5.9             0.645         0.12             2.0      0.075   \n",
       "1598            6.0             0.310         0.47             3.6      0.067   \n",
       "\n",
       "      free sulfur dioxide  total sulfur dioxide  density    pH  sulphates  \\\n",
       "1596                 29.0                  40.0  0.99574  3.42       0.75   \n",
       "1597                 32.0                  44.0  0.99547  3.57       0.71   \n",
       "1598                 18.0                  42.0  0.99549  3.39       0.66   \n",
       "\n",
       "      alcohol  quality  \n",
       "1596     11.0        6  \n",
       "1597     10.2        5  \n",
       "1598     11.0        6  "
      ]
     },
     "execution_count": 10,
     "metadata": {},
     "output_type": "execute_result"
    }
   ],
   "source": [
    "print(\"We can read the {} tsv easily.\".format(files[-1]))\n",
    "\n",
    "df = s3.read_csv(files[-1], sep='\\t')\n",
    "df.tail(3)"
   ]
  },
  {
   "cell_type": "markdown",
   "metadata": {},
   "source": [
    "here's a json file"
   ]
  },
  {
   "cell_type": "code",
   "execution_count": 11,
   "metadata": {
    "collapsed": false
   },
   "outputs": [
    {
     "name": "stdout",
     "output_type": "stream",
     "text": [
      "We can also read the s3://prod-datalytics/playground/json_bourne.json file easily.\n"
     ]
    },
    {
     "data": {
      "text/html": [
       "<div>\n",
       "<table border=\"1\" class=\"dataframe\">\n",
       "  <thead>\n",
       "    <tr style=\"text-align: right;\">\n",
       "      <th></th>\n",
       "      <th>alcohol</th>\n",
       "      <th>chlorides</th>\n",
       "      <th>citric acid</th>\n",
       "      <th>density</th>\n",
       "      <th>fixed acidity</th>\n",
       "      <th>free sulfur dioxide</th>\n",
       "      <th>pH</th>\n",
       "      <th>quality</th>\n",
       "      <th>residual sugar</th>\n",
       "      <th>sulphates</th>\n",
       "      <th>total sulfur dioxide</th>\n",
       "      <th>volatile acidity</th>\n",
       "    </tr>\n",
       "  </thead>\n",
       "  <tbody>\n",
       "    <tr>\n",
       "      <th>1289</th>\n",
       "      <td>10.2</td>\n",
       "      <td>0.068</td>\n",
       "      <td>0.30</td>\n",
       "      <td>0.99914</td>\n",
       "      <td>7.0</td>\n",
       "      <td>20.0</td>\n",
       "      <td>3.30</td>\n",
       "      <td>5</td>\n",
       "      <td>4.5</td>\n",
       "      <td>1.17</td>\n",
       "      <td>110.0</td>\n",
       "      <td>0.60</td>\n",
       "    </tr>\n",
       "    <tr>\n",
       "      <th>607</th>\n",
       "      <td>10.5</td>\n",
       "      <td>0.092</td>\n",
       "      <td>0.41</td>\n",
       "      <td>0.99820</td>\n",
       "      <td>8.8</td>\n",
       "      <td>26.0</td>\n",
       "      <td>3.31</td>\n",
       "      <td>6</td>\n",
       "      <td>3.3</td>\n",
       "      <td>0.53</td>\n",
       "      <td>52.0</td>\n",
       "      <td>0.48</td>\n",
       "    </tr>\n",
       "    <tr>\n",
       "      <th>675</th>\n",
       "      <td>10.2</td>\n",
       "      <td>0.064</td>\n",
       "      <td>0.39</td>\n",
       "      <td>0.99840</td>\n",
       "      <td>9.3</td>\n",
       "      <td>12.0</td>\n",
       "      <td>3.26</td>\n",
       "      <td>5</td>\n",
       "      <td>2.2</td>\n",
       "      <td>0.65</td>\n",
       "      <td>31.0</td>\n",
       "      <td>0.41</td>\n",
       "    </tr>\n",
       "  </tbody>\n",
       "</table>\n",
       "</div>"
      ],
      "text/plain": [
       "      alcohol  chlorides  citric acid  density  fixed acidity  \\\n",
       "1289     10.2      0.068         0.30  0.99914            7.0   \n",
       "607      10.5      0.092         0.41  0.99820            8.8   \n",
       "675      10.2      0.064         0.39  0.99840            9.3   \n",
       "\n",
       "      free sulfur dioxide    pH  quality  residual sugar  sulphates  \\\n",
       "1289                 20.0  3.30        5             4.5       1.17   \n",
       "607                  26.0  3.31        6             3.3       0.53   \n",
       "675                  12.0  3.26        5             2.2       0.65   \n",
       "\n",
       "      total sulfur dioxide  volatile acidity  \n",
       "1289                 110.0              0.60  \n",
       "607                   52.0              0.48  \n",
       "675                   31.0              0.41  "
      ]
     },
     "execution_count": 11,
     "metadata": {},
     "output_type": "execute_result"
    }
   ],
   "source": [
    "print(\"We can also read the {} file easily.\".format(files[0]))\n",
    "\n",
    "df = s3.read_json(files[0])\n",
    "df.sample(3)"
   ]
  },
  {
   "cell_type": "markdown",
   "metadata": {},
   "source": [
    "they're actually all the same file-- in different formats!<br>\n",
    "If you're new to Pandas, you'll be happy to learn that it is the de-facto tool for data manipulation.<br>"
   ]
  },
  {
   "cell_type": "code",
   "execution_count": 12,
   "metadata": {
    "collapsed": false
   },
   "outputs": [
    {
     "data": {
      "text/plain": [
       "alcohol                 float64\n",
       "chlorides               float64\n",
       "citric acid             float64\n",
       "density                 float64\n",
       "fixed acidity           float64\n",
       "free sulfur dioxide     float64\n",
       "pH                      float64\n",
       "quality                   int64\n",
       "residual sugar          float64\n",
       "sulphates               float64\n",
       "total sulfur dioxide    float64\n",
       "volatile acidity        float64\n",
       "dtype: object"
      ]
     },
     "execution_count": 12,
     "metadata": {},
     "output_type": "execute_result"
    }
   ],
   "source": [
    "df.dtypes"
   ]
  },
  {
   "cell_type": "markdown",
   "metadata": {},
   "source": [
    "Getting basic stats and distrobutions are a function away.."
   ]
  },
  {
   "cell_type": "code",
   "execution_count": 13,
   "metadata": {
    "collapsed": false
   },
   "outputs": [
    {
     "data": {
      "text/html": [
       "<div>\n",
       "<table border=\"1\" class=\"dataframe\">\n",
       "  <thead>\n",
       "    <tr style=\"text-align: right;\">\n",
       "      <th></th>\n",
       "      <th>count</th>\n",
       "      <th>mean</th>\n",
       "      <th>std</th>\n",
       "      <th>min</th>\n",
       "      <th>25%</th>\n",
       "      <th>50%</th>\n",
       "      <th>75%</th>\n",
       "      <th>max</th>\n",
       "    </tr>\n",
       "  </thead>\n",
       "  <tbody>\n",
       "    <tr>\n",
       "      <th>alcohol</th>\n",
       "      <td>1599.0</td>\n",
       "      <td>10.422983</td>\n",
       "      <td>1.065668</td>\n",
       "      <td>8.40000</td>\n",
       "      <td>9.5000</td>\n",
       "      <td>10.20000</td>\n",
       "      <td>11.100000</td>\n",
       "      <td>14.90000</td>\n",
       "    </tr>\n",
       "    <tr>\n",
       "      <th>chlorides</th>\n",
       "      <td>1599.0</td>\n",
       "      <td>0.087467</td>\n",
       "      <td>0.047065</td>\n",
       "      <td>0.01200</td>\n",
       "      <td>0.0700</td>\n",
       "      <td>0.07900</td>\n",
       "      <td>0.090000</td>\n",
       "      <td>0.61100</td>\n",
       "    </tr>\n",
       "    <tr>\n",
       "      <th>citric acid</th>\n",
       "      <td>1599.0</td>\n",
       "      <td>0.270976</td>\n",
       "      <td>0.194801</td>\n",
       "      <td>0.00000</td>\n",
       "      <td>0.0900</td>\n",
       "      <td>0.26000</td>\n",
       "      <td>0.420000</td>\n",
       "      <td>1.00000</td>\n",
       "    </tr>\n",
       "    <tr>\n",
       "      <th>density</th>\n",
       "      <td>1599.0</td>\n",
       "      <td>0.996747</td>\n",
       "      <td>0.001887</td>\n",
       "      <td>0.99007</td>\n",
       "      <td>0.9956</td>\n",
       "      <td>0.99675</td>\n",
       "      <td>0.997835</td>\n",
       "      <td>1.00369</td>\n",
       "    </tr>\n",
       "    <tr>\n",
       "      <th>fixed acidity</th>\n",
       "      <td>1599.0</td>\n",
       "      <td>8.319637</td>\n",
       "      <td>1.741096</td>\n",
       "      <td>4.60000</td>\n",
       "      <td>7.1000</td>\n",
       "      <td>7.90000</td>\n",
       "      <td>9.200000</td>\n",
       "      <td>15.90000</td>\n",
       "    </tr>\n",
       "    <tr>\n",
       "      <th>free sulfur dioxide</th>\n",
       "      <td>1599.0</td>\n",
       "      <td>15.874922</td>\n",
       "      <td>10.460157</td>\n",
       "      <td>1.00000</td>\n",
       "      <td>7.0000</td>\n",
       "      <td>14.00000</td>\n",
       "      <td>21.000000</td>\n",
       "      <td>72.00000</td>\n",
       "    </tr>\n",
       "    <tr>\n",
       "      <th>pH</th>\n",
       "      <td>1599.0</td>\n",
       "      <td>3.311113</td>\n",
       "      <td>0.154386</td>\n",
       "      <td>2.74000</td>\n",
       "      <td>3.2100</td>\n",
       "      <td>3.31000</td>\n",
       "      <td>3.400000</td>\n",
       "      <td>4.01000</td>\n",
       "    </tr>\n",
       "    <tr>\n",
       "      <th>quality</th>\n",
       "      <td>1599.0</td>\n",
       "      <td>5.636023</td>\n",
       "      <td>0.807569</td>\n",
       "      <td>3.00000</td>\n",
       "      <td>5.0000</td>\n",
       "      <td>6.00000</td>\n",
       "      <td>6.000000</td>\n",
       "      <td>8.00000</td>\n",
       "    </tr>\n",
       "    <tr>\n",
       "      <th>residual sugar</th>\n",
       "      <td>1599.0</td>\n",
       "      <td>2.538806</td>\n",
       "      <td>1.409928</td>\n",
       "      <td>0.90000</td>\n",
       "      <td>1.9000</td>\n",
       "      <td>2.20000</td>\n",
       "      <td>2.600000</td>\n",
       "      <td>15.50000</td>\n",
       "    </tr>\n",
       "    <tr>\n",
       "      <th>sulphates</th>\n",
       "      <td>1599.0</td>\n",
       "      <td>0.658149</td>\n",
       "      <td>0.169507</td>\n",
       "      <td>0.33000</td>\n",
       "      <td>0.5500</td>\n",
       "      <td>0.62000</td>\n",
       "      <td>0.730000</td>\n",
       "      <td>2.00000</td>\n",
       "    </tr>\n",
       "    <tr>\n",
       "      <th>total sulfur dioxide</th>\n",
       "      <td>1599.0</td>\n",
       "      <td>46.467792</td>\n",
       "      <td>32.895324</td>\n",
       "      <td>6.00000</td>\n",
       "      <td>22.0000</td>\n",
       "      <td>38.00000</td>\n",
       "      <td>62.000000</td>\n",
       "      <td>289.00000</td>\n",
       "    </tr>\n",
       "    <tr>\n",
       "      <th>volatile acidity</th>\n",
       "      <td>1599.0</td>\n",
       "      <td>0.527821</td>\n",
       "      <td>0.179060</td>\n",
       "      <td>0.12000</td>\n",
       "      <td>0.3900</td>\n",
       "      <td>0.52000</td>\n",
       "      <td>0.640000</td>\n",
       "      <td>1.58000</td>\n",
       "    </tr>\n",
       "  </tbody>\n",
       "</table>\n",
       "</div>"
      ],
      "text/plain": [
       "                       count       mean        std      min      25%  \\\n",
       "alcohol               1599.0  10.422983   1.065668  8.40000   9.5000   \n",
       "chlorides             1599.0   0.087467   0.047065  0.01200   0.0700   \n",
       "citric acid           1599.0   0.270976   0.194801  0.00000   0.0900   \n",
       "density               1599.0   0.996747   0.001887  0.99007   0.9956   \n",
       "fixed acidity         1599.0   8.319637   1.741096  4.60000   7.1000   \n",
       "free sulfur dioxide   1599.0  15.874922  10.460157  1.00000   7.0000   \n",
       "pH                    1599.0   3.311113   0.154386  2.74000   3.2100   \n",
       "quality               1599.0   5.636023   0.807569  3.00000   5.0000   \n",
       "residual sugar        1599.0   2.538806   1.409928  0.90000   1.9000   \n",
       "sulphates             1599.0   0.658149   0.169507  0.33000   0.5500   \n",
       "total sulfur dioxide  1599.0  46.467792  32.895324  6.00000  22.0000   \n",
       "volatile acidity      1599.0   0.527821   0.179060  0.12000   0.3900   \n",
       "\n",
       "                           50%        75%        max  \n",
       "alcohol               10.20000  11.100000   14.90000  \n",
       "chlorides              0.07900   0.090000    0.61100  \n",
       "citric acid            0.26000   0.420000    1.00000  \n",
       "density                0.99675   0.997835    1.00369  \n",
       "fixed acidity          7.90000   9.200000   15.90000  \n",
       "free sulfur dioxide   14.00000  21.000000   72.00000  \n",
       "pH                     3.31000   3.400000    4.01000  \n",
       "quality                6.00000   6.000000    8.00000  \n",
       "residual sugar         2.20000   2.600000   15.50000  \n",
       "sulphates              0.62000   0.730000    2.00000  \n",
       "total sulfur dioxide  38.00000  62.000000  289.00000  \n",
       "volatile acidity       0.52000   0.640000    1.58000  "
      ]
     },
     "execution_count": 13,
     "metadata": {},
     "output_type": "execute_result"
    }
   ],
   "source": [
    "df.describe().T"
   ]
  },
  {
   "cell_type": "markdown",
   "metadata": {},
   "source": [
    "Everything is indexed!<br>\n",
    "Here we get a quick calculation for the 75th percentile of alcohol content."
   ]
  },
  {
   "cell_type": "code",
   "execution_count": 14,
   "metadata": {
    "collapsed": false
   },
   "outputs": [
    {
     "data": {
      "text/plain": [
       "11.1"
      ]
     },
     "execution_count": 14,
     "metadata": {},
     "output_type": "execute_result"
    }
   ],
   "source": [
    "df.describe()['alcohol']['75%']"
   ]
  },
  {
   "cell_type": "markdown",
   "metadata": {},
   "source": [
    "It's easy to filter a dataframe:<br> \n",
    "Here we're going to get all the heavily alcoholic wines..."
   ]
  },
  {
   "cell_type": "code",
   "execution_count": 15,
   "metadata": {
    "collapsed": false
   },
   "outputs": [
    {
     "data": {
      "text/html": [
       "<div>\n",
       "<table border=\"1\" class=\"dataframe\">\n",
       "  <thead>\n",
       "    <tr style=\"text-align: right;\">\n",
       "      <th></th>\n",
       "      <th>alcohol</th>\n",
       "      <th>chlorides</th>\n",
       "      <th>citric acid</th>\n",
       "      <th>density</th>\n",
       "      <th>fixed acidity</th>\n",
       "      <th>free sulfur dioxide</th>\n",
       "      <th>pH</th>\n",
       "      <th>quality</th>\n",
       "      <th>residual sugar</th>\n",
       "      <th>sulphates</th>\n",
       "      <th>total sulfur dioxide</th>\n",
       "      <th>volatile acidity</th>\n",
       "    </tr>\n",
       "  </thead>\n",
       "  <tbody>\n",
       "    <tr>\n",
       "      <th>45</th>\n",
       "      <td>13.1</td>\n",
       "      <td>0.054</td>\n",
       "      <td>0.15</td>\n",
       "      <td>0.9934</td>\n",
       "      <td>4.6</td>\n",
       "      <td>8.0</td>\n",
       "      <td>3.90</td>\n",
       "      <td>4</td>\n",
       "      <td>2.1</td>\n",
       "      <td>0.56</td>\n",
       "      <td>65.0</td>\n",
       "      <td>0.52</td>\n",
       "    </tr>\n",
       "    <tr>\n",
       "      <th>95</th>\n",
       "      <td>12.9</td>\n",
       "      <td>0.058</td>\n",
       "      <td>0.17</td>\n",
       "      <td>0.9932</td>\n",
       "      <td>4.7</td>\n",
       "      <td>17.0</td>\n",
       "      <td>3.85</td>\n",
       "      <td>6</td>\n",
       "      <td>2.3</td>\n",
       "      <td>0.60</td>\n",
       "      <td>106.0</td>\n",
       "      <td>0.60</td>\n",
       "    </tr>\n",
       "    <tr>\n",
       "      <th>131</th>\n",
       "      <td>13.0</td>\n",
       "      <td>0.049</td>\n",
       "      <td>0.09</td>\n",
       "      <td>0.9937</td>\n",
       "      <td>5.6</td>\n",
       "      <td>17.0</td>\n",
       "      <td>3.63</td>\n",
       "      <td>5</td>\n",
       "      <td>2.3</td>\n",
       "      <td>0.63</td>\n",
       "      <td>99.0</td>\n",
       "      <td>0.50</td>\n",
       "    </tr>\n",
       "    <tr>\n",
       "      <th>132</th>\n",
       "      <td>13.0</td>\n",
       "      <td>0.049</td>\n",
       "      <td>0.09</td>\n",
       "      <td>0.9937</td>\n",
       "      <td>5.6</td>\n",
       "      <td>17.0</td>\n",
       "      <td>3.63</td>\n",
       "      <td>5</td>\n",
       "      <td>2.3</td>\n",
       "      <td>0.63</td>\n",
       "      <td>99.0</td>\n",
       "      <td>0.50</td>\n",
       "    </tr>\n",
       "    <tr>\n",
       "      <th>142</th>\n",
       "      <td>14.0</td>\n",
       "      <td>0.050</td>\n",
       "      <td>0.00</td>\n",
       "      <td>0.9916</td>\n",
       "      <td>5.2</td>\n",
       "      <td>27.0</td>\n",
       "      <td>3.68</td>\n",
       "      <td>6</td>\n",
       "      <td>1.8</td>\n",
       "      <td>0.79</td>\n",
       "      <td>63.0</td>\n",
       "      <td>0.34</td>\n",
       "    </tr>\n",
       "  </tbody>\n",
       "</table>\n",
       "</div>"
      ],
      "text/plain": [
       "     alcohol  chlorides  citric acid  density  fixed acidity  \\\n",
       "45      13.1      0.054         0.15   0.9934            4.6   \n",
       "95      12.9      0.058         0.17   0.9932            4.7   \n",
       "131     13.0      0.049         0.09   0.9937            5.6   \n",
       "132     13.0      0.049         0.09   0.9937            5.6   \n",
       "142     14.0      0.050         0.00   0.9916            5.2   \n",
       "\n",
       "     free sulfur dioxide    pH  quality  residual sugar  sulphates  \\\n",
       "45                   8.0  3.90        4             2.1       0.56   \n",
       "95                  17.0  3.85        6             2.3       0.60   \n",
       "131                 17.0  3.63        5             2.3       0.63   \n",
       "132                 17.0  3.63        5             2.3       0.63   \n",
       "142                 27.0  3.68        6             1.8       0.79   \n",
       "\n",
       "     total sulfur dioxide  volatile acidity  \n",
       "45                   65.0              0.52  \n",
       "95                  106.0              0.60  \n",
       "131                  99.0              0.50  \n",
       "132                  99.0              0.50  \n",
       "142                  63.0              0.34  "
      ]
     },
     "execution_count": 15,
     "metadata": {},
     "output_type": "execute_result"
    }
   ],
   "source": [
    "df_alcoholic = df[df['alcohol'] > df.describe()['alcohol']['75%']]\n",
    "df_alcoholic.head()"
   ]
  },
  {
   "cell_type": "markdown",
   "metadata": {},
   "source": [
    "It's also stupid easy to plot-- as Pandas extends the Matplotlib package."
   ]
  },
  {
   "cell_type": "code",
   "execution_count": 16,
   "metadata": {
    "collapsed": true
   },
   "outputs": [],
   "source": [
    "#this line is run once, typically at the beginning of the notebook to enable plotting.\n",
    "%matplotlib inline"
   ]
  },
  {
   "cell_type": "code",
   "execution_count": 17,
   "metadata": {
    "collapsed": false
   },
   "outputs": [
    {
     "data": {
      "text/plain": [
       "<matplotlib.axes._subplots.AxesSubplot at 0x10de76e10>"
      ]
     },
     "execution_count": 17,
     "metadata": {},
     "output_type": "execute_result"
    },
    {
     "data": {
      "image/png": "[encoded data removed]",
      "text/plain": [
       "<matplotlib.figure.Figure at 0x10de763c8>"
      ]
     },
     "metadata": {},
     "output_type": "display_data"
    }
   ],
   "source": [
    "df_alcoholic.plot(kind='scatter', x='residual sugar', y='density')"
   ]
  },
  {
   "cell_type": "markdown",
   "metadata": {},
   "source": [
    "After processing and normalizing the data, we may want to upload this new file to s3.\n",
    "<br><a href='#top'>top</a>"
   ]
  },
  {
   "cell_type": "markdown",
   "metadata": {},
   "source": [
    "## Write DataFrames to S3 with to_csv( ) and to_json( ) \n",
    "<p>\n",
    "    s3.read_csv and read_json are <i>almost</i> identical to their Pandas <a href=\"http://pandas.pydata.org/pandas-docs/stable/generated/pandas.to_csv.html\">ancestor and backbone.</a>\n",
    "    <br>The difference is that s3.to_csv takes the dataframe as an argument, rather than being a function of a dataframe.\n",
    "    <br><a href=\"https://github.com/yinleon/s3/blob/master/frame.py\">see the code</a>\n",
    "</p>"
   ]
  },
  {
   "cell_type": "code",
   "execution_count": 18,
   "metadata": {
    "collapsed": false
   },
   "outputs": [],
   "source": [
    "# where will the file get stored?\n",
    "s3_target = 's3://prod-datalytics/playground/wine_list.tsv.gz'"
   ]
  },
  {
   "cell_type": "markdown",
   "metadata": {},
   "source": [
    "We can now use our filtered dataset, to write a new file to s3.<br>\n",
    "Using Pandas to_csv args, we have a lot of control of the output format."
   ]
  },
  {
   "cell_type": "code",
   "execution_count": 19,
   "metadata": {
    "collapsed": false
   },
   "outputs": [
    {
     "data": {
      "text/plain": [
       "\"File uploaded to 's3://prod-datalytics/playground/wine_list.tsv.gz'\""
      ]
     },
     "execution_count": 19,
     "metadata": {},
     "output_type": "execute_result"
    }
   ],
   "source": [
    "s3.to_csv(df_alcoholic, s3_target, sep='\\t',\n",
    "          index=False, compression='gzip')"
   ]
  },
  {
   "cell_type": "markdown",
   "metadata": {},
   "source": [
    "<a href='#top'>top</a>"
   ]
  },
  {
   "cell_type": "markdown",
   "metadata": {},
   "source": [
    "## Write local files to S3 with disk_2_s3( ) <a id='write'></a> \n",
    "We can send local files to s3 too, first let's write a file to local disk using the built-in Pandas `to_csv()`."
   ]
  },
  {
   "cell_type": "code",
   "execution_count": 20,
   "metadata": {
    "collapsed": true
   },
   "outputs": [],
   "source": [
    "local_file = 'wine_list.tsv.gz'"
   ]
  },
  {
   "cell_type": "code",
   "execution_count": 21,
   "metadata": {
    "collapsed": true
   },
   "outputs": [],
   "source": [
    "df_alcoholic.to_csv(local_file, sep='\\t', index=False, compression='gzip')"
   ]
  },
  {
   "cell_type": "code",
   "execution_count": 22,
   "metadata": {
    "collapsed": false
   },
   "outputs": [
    {
     "data": {
      "text/plain": [
       "\"'wine_list.tsv.gz' loaded to 's3://prod-datalytics/playground/wine_list.tsv.gz'\""
      ]
     },
     "execution_count": 22,
     "metadata": {},
     "output_type": "execute_result"
    }
   ],
   "source": [
    "s3.disk_2_s3(file=local_file,\n",
    "             s3_path=s3_target)"
   ]
  },
  {
   "cell_type": "code",
   "execution_count": 23,
   "metadata": {
    "collapsed": false
   },
   "outputs": [],
   "source": [
    "# purge it!\n",
    "os.remove(local_file)"
   ]
  },
  {
   "cell_type": "markdown",
   "metadata": {},
   "source": [
    "## Saving and Loading Scikit-Learn Classifiers <a id='#clf'>\n",
    "If you're into machine learning, you're in luck!\n",
    "<br><a href=\"https://github.com/yinleon/s3/blob/master/clf.py\">see the code</a>"
   ]
  },
  {
   "cell_type": "code",
   "execution_count": 24,
   "metadata": {
    "collapsed": false
   },
   "outputs": [],
   "source": [
    "from sklearn.ensemble import RandomForestClassifier"
   ]
  },
  {
   "cell_type": "markdown",
   "metadata": {},
   "source": [
    "for the example let's just use a vanilla Random Forest Model"
   ]
  },
  {
   "cell_type": "code",
   "execution_count": 25,
   "metadata": {
    "collapsed": false
   },
   "outputs": [
    {
     "data": {
      "text/plain": [
       "RandomForestClassifier(bootstrap=True, class_weight=None, criterion='gini',\n",
       "            max_depth=None, max_features='auto', max_leaf_nodes=None,\n",
       "            min_samples_leaf=1, min_samples_split=2,\n",
       "            min_weight_fraction_leaf=0.0, n_estimators=10, n_jobs=1,\n",
       "            oob_score=False, random_state=None, verbose=0,\n",
       "            warm_start=False)"
      ]
     },
     "execution_count": 25,
     "metadata": {},
     "output_type": "execute_result"
    }
   ],
   "source": [
    "clf = RandomForestClassifier()\n",
    "clf"
   ]
  },
  {
   "cell_type": "markdown",
   "metadata": {},
   "source": [
    "Here is where we'd train and evaluate the model..."
   ]
  },
  {
   "cell_type": "code",
   "execution_count": 30,
   "metadata": {
    "collapsed": false
   },
   "outputs": [
    {
     "name": "stdout",
     "output_type": "stream",
     "text": [
      "ACCURACY ON TRAINING SET: 0.99\n",
      "ACCURACY OF TEST SET: 0.61\n"
     ]
    }
   ],
   "source": [
    "# fit the model!\n",
    "# clf.fit(X, y)"
   ]
  },
  {
   "cell_type": "markdown",
   "metadata": {},
   "source": [
    "My first run (not shown) I got a an test set accuracy of only 61%, which is pretty bad.<br>\n",
    "You should try to beat that score!"
   ]
  },
  {
   "cell_type": "code",
   "execution_count": null,
   "metadata": {
    "collapsed": true
   },
   "outputs": [],
   "source": [
    "'''\n",
    "write some code here:\n",
    "look into train_test_split, gridsearchCV, and kfolds from Scikit-Learn.\n",
    "\n",
    "This is also a great dataset to practice:\n",
    "scaling values (see standardScaler)\n",
    "dimensionality reduction (see PCA)\n",
    "and a linear model (see Lasso or Logistic Regression)\n",
    "'''"
   ]
  },
  {
   "cell_type": "markdown",
   "metadata": {},
   "source": [
    "Once you're happy with the performance, we can persist the model as a pickle file."
   ]
  },
  {
   "cell_type": "code",
   "execution_count": 31,
   "metadata": {
    "collapsed": false
   },
   "outputs": [
    {
     "data": {
      "text/plain": [
       "\"'clf.pkl' loaded to 's3://prod-datalytics/playground/models/clf.pkl'\""
      ]
     },
     "execution_count": 31,
     "metadata": {},
     "output_type": "execute_result"
    }
   ],
   "source": [
    "s3.dump_clf(clf, 's3://prod-datalytics/playground/models/clf.pkl')"
   ]
  },
  {
   "cell_type": "markdown",
   "metadata": {},
   "source": [
    "And re-use it when the time is right!"
   ]
  },
  {
   "cell_type": "code",
   "execution_count": 32,
   "metadata": {
    "collapsed": false
   },
   "outputs": [
    {
     "data": {
      "text/plain": [
       "RandomForestClassifier(bootstrap=True, class_weight=None, criterion='gini',\n",
       "            max_depth=None, max_features='auto', max_leaf_nodes=None,\n",
       "            min_samples_leaf=1, min_samples_split=2,\n",
       "            min_weight_fraction_leaf=0.0, n_estimators=10, n_jobs=1,\n",
       "            oob_score=False, random_state=None, verbose=0,\n",
       "            warm_start=False)"
      ]
     },
     "execution_count": 32,
     "metadata": {},
     "output_type": "execute_result"
    }
   ],
   "source": [
    "s3.load_clf('s3://prod-datalytics/playground/models/clf.pkl')"
   ]
  },
  {
   "cell_type": "markdown",
   "metadata": {},
   "source": [
    "<a href='#top'>top</a>"
   ]
  },
  {
   "cell_type": "markdown",
   "metadata": {},
   "source": [
    "## Movin' Files between buckets and keys \n",
    "In the interest of good file-keeping let's move our saved classifier to it's own special folder (key).<br>"
   ]
  },
  {
   "cell_type": "code",
   "execution_count": 33,
   "metadata": {
    "collapsed": false
   },
   "outputs": [
    {
     "data": {
      "text/plain": [
       "{'CopyObjectResult': {'ETag': '\"fd28ec0656661ce2a86373b097a95b89\"',\n",
       "  'LastModified': datetime.datetime(2017, 3, 2, 0, 13, 43, tzinfo=tzutc())},\n",
       " 'CopySourceVersionId': 'ov3ei3i4mEGFOcBMEmi2g8atvAbVHKJx',\n",
       " 'ResponseMetadata': {'HTTPStatusCode': 200,\n",
       "  'HostId': 'ax6Q2HTAn+86P6wz6v2MWX3ZLsYoksdpqgcJtyKaXcEur80A4awZMiEEDuMLzzcydYNoyX3wBGQ=',\n",
       "  'RequestId': 'AE98FD0B9CE85D9F'},\n",
       " 'VersionId': 'OJX.ffdLzhrSD5kYc3wyMAWhtSWBIawN'}"
      ]
     },
     "execution_count": 33,
     "metadata": {},
     "output_type": "execute_result"
    }
   ],
   "source": [
    "s3.cp(old_path='s3://prod-datalytics/playground/models/clf.pkl',\n",
    "      new_path='s3://prod-datalytics/production_space/models/clf.pkl',)"
   ]
  },
  {
   "cell_type": "markdown",
   "metadata": {},
   "source": [
    "to move the file (and delete the old instance) we use `mv`, instead of `cp`."
   ]
  },
  {
   "cell_type": "code",
   "execution_count": 34,
   "metadata": {
    "collapsed": false
   },
   "outputs": [
    {
     "data": {
      "text/plain": [
       "{'DeleteMarker': True,\n",
       " 'ResponseMetadata': {'HTTPStatusCode': 204,\n",
       "  'HostId': 'wevPToOM9kIl8QId3r9NzheWcq5c1Rw43kUnH9Js7Ja8N3Ah/8G5DxzfKO9JVaL4uZ8RMkSkN5o=',\n",
       "  'RequestId': '9E3FC788589304B4'},\n",
       " 'VersionId': 'tnPVq8F1usk.sBxewcQ2SUWaYOrG3KXN'}"
      ]
     },
     "execution_count": 34,
     "metadata": {},
     "output_type": "execute_result"
    }
   ],
   "source": [
    "s3.mv(old_path='s3://prod-datalytics/playground/models/clf.pkl',\n",
    "      new_path='s3://prod-datalytics/production_space/models/clf.pkl',)"
   ]
  },
  {
   "cell_type": "markdown",
   "metadata": {},
   "source": [
    "<a href='#top'>top</a>"
   ]
  }
 ],
 "metadata": {
  "kernelspec": {
   "display_name": "Python 3",
   "language": "python",
   "name": "python3"
  },
  "language_info": {
   "codemirror_mode": {
    "name": "ipython",
    "version": 3
   },
   "file_extension": ".py",
   "mimetype": "text/x-python",
   "name": "python",
   "nbconvert_exporter": "python",
   "pygments_lexer": "ipython3",
   "version": "3.5.2"
  }
 },
 "nbformat": 4,
 "nbformat_minor": 0
}
